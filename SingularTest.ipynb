{
 "cells": [
  {
   "cell_type": "code",
   "execution_count": 1,
   "metadata": {
    "collapsed": false
   },
   "outputs": [
    {
     "name": "stdout",
     "output_type": "stream",
     "text": [
      " "
     ]
    }
   ],
   "source": [
    "ring r;"
   ]
  },
  {
   "cell_type": "code",
   "execution_count": 2,
   "metadata": {
    "collapsed": false
   },
   "outputs": [
    {
     "name": "stdout",
     "output_type": "stream",
     "text": [
      " //   characteristic : 32003\r\n",
      "//   number of vars : 3\r\n",
      "//        block   1 : ordering dp\r\n",
      "//                  : names    x y z\r\n",
      "//        block   2 : ordering C\r\n"
     ]
    }
   ],
   "source": [
    "r;"
   ]
  },
  {
   "cell_type": "code",
   "execution_count": 3,
   "metadata": {
    "collapsed": false
   },
   "outputs": [
    {
     "name": "stdout",
     "output_type": "stream",
     "text": [
      " "
     ]
    }
   ],
   "source": [
    "ideal I = (xy,x^2);"
   ]
  },
  {
   "cell_type": "code",
   "execution_count": 4,
   "metadata": {
    "collapsed": false
   },
   "outputs": [
    {
     "name": "stdout",
     "output_type": "stream",
     "text": [
      " _[1]=xy\r\n",
      "_[2]=x2\r\n"
     ]
    }
   ],
   "source": [
    "std(I);"
   ]
  },
  {
   "cell_type": "code",
   "execution_count": null,
   "metadata": {
    "collapsed": true
   },
   "outputs": [],
   "source": []
  }
 ],
 "metadata": {
  "kernelspec": {
   "display_name": "SINGULAR",
   "language": "singular",
   "name": "singular"
  },
  "language_info": {
   "codemirror_mode": "shell",
   "file_extension": ".s",
   "mimetype": "text/x-sh",
   "name": "singular"
  }
 },
 "nbformat": 4,
 "nbformat_minor": 0
}
